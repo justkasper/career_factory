{
 "cells": [
  {
   "cell_type": "markdown",
   "metadata": {},
   "source": [
    "# Карьерный Цех — задание для аналитиков от 30 апреля 2021 — личный этап\n",
    "\n",
    "Ссылка на полную версию задания: https://www.notion.so/30-2021-0be801732c9e4ad293ddf1c408394256\n",
    "\n",
    "### Задание\n",
    "\n",
    "**(*единственное в конкурсе, загрузите его решение целиком одним файлом)** \n",
    "\n",
    "[Сбермаркет](https://sbermarket.ru/) - сервис доставки продуктов на дом пользователю. \n",
    "\n",
    "Вы пошли на конференцию по маркетинговой аналитике и познакомились там с продакт-менеджером Сбермаркета, отвечающим за направление привлечения пользователей.\n",
    "\n",
    "Его боль - поиск хорошего аналитика. Слово за слово, и вы выяснили, что на самом деле проблема достаточно конкретна. Продакт-менеджер проводил эксперимент с лэндингом, вместе с аналитиком, который должен был его обсчитать. Все шло хорошо, эксперимент был запущен и аналитик начал его обсчитывать. Но ознакомившись с данными сказал, что устал,  выгорел и ему нужен длительный ретрит. Что он и сделал, уехав в Тибет, без связи и интернета. \n",
    "\n",
    "Замену изнутри пообещали только через месяц - у всех свои планы и плотный график. Поэтому продакт упросил вас проанализировать этот эксперимент со стороны и посулил отличный гонорар. \n",
    "\n",
    "Ипотека сама себя не выплатит, поэтому вы согласились.\n",
    "\n",
    "В качестве материалов, он кинул вам исходные данные с описанием дизайна эксперимента и выгрузки результатов."
   ]
  },
  {
   "cell_type": "markdown",
   "metadata": {},
   "source": [
    "### Import"
   ]
  },
  {
   "cell_type": "code",
   "execution_count": 141,
   "metadata": {},
   "outputs": [],
   "source": [
    "import pandas as pd\n",
    "import os"
   ]
  },
  {
   "cell_type": "markdown",
   "metadata": {},
   "source": [
    "### Input"
   ]
  },
  {
   "cell_type": "code",
   "execution_count": 2,
   "metadata": {},
   "outputs": [],
   "source": [
    "ab_test_hit = pd.read_csv(os.path.join('E:', '_Work', 'Career factory', 'AB Test Hit.csv'))\n",
    "add_to_cart_clicked = pd.read_csv(os.path.join('E:', '_Work', 'Career factory', 'Add To Cart Clicked.csv'))\n",
    "address_change_initiated = pd.read_csv(os.path.join('E:', '_Work', 'Career factory', 'Address Change Initiated.csv'))\n",
    "address_not_in_deli = pd.read_csv(os.path.join('E:', '_Work', 'Career factory', 'Address Not In Delivery Zone.csv'))\n",
    "landing_viewed = pd.read_csv(os.path.join('E:', '_Work', 'Career factory', 'Landing Viewed.csv'))\n",
    "main_viewed = pd.read_csv(os.path.join('E:', '_Work', 'Career factory', 'Main Page Viewed.csv'))\n",
    "order_completed = pd.read_csv(os.path.join('E:', '_Work', 'Career factory', 'Order Completed.csv'))\n",
    "product_added = pd.read_csv(os.path.join('E:', '_Work', 'Career factory', 'Product Added.csv'))\n",
    "shop_selected = pd.read_csv(os.path.join('E:', '_Work', 'Career factory', 'Shop Selected.csv'))\n",
    "shop_celection_started = pd.read_csv(os.path.join('E:', '_Work', 'Career factory', 'Shop Celection Started.csv'))"
   ]
  },
  {
   "cell_type": "markdown",
   "metadata": {},
   "source": [
    "## Дизайн эксперимента (проблемы)\n",
    "\n",
    "### Отсутствует описание критериев и метода разбиения пользователей на группы"
   ]
  },
  {
   "cell_type": "code",
   "execution_count": 142,
   "metadata": {},
   "outputs": [
    {
     "data": {
      "text/plain": [
       "489019"
      ]
     },
     "execution_count": 142,
     "metadata": {},
     "output_type": "execute_result"
    }
   ],
   "source": [
    "# Всего пользователей AB Test Hit\n",
    "ab_test_hit.drop_duplicates()['anonymous_id'].nunique()"
   ]
  },
  {
   "cell_type": "code",
   "execution_count": 143,
   "metadata": {},
   "outputs": [
    {
     "data": {
      "text/plain": [
       "210922"
      ]
     },
     "execution_count": 143,
     "metadata": {},
     "output_type": "execute_result"
    }
   ],
   "source": [
    "# Всего пользователей в Landing Viewed \n",
    "landing_viewed.drop_duplicates()['anonymous_id'].nunique()"
   ]
  },
  {
   "cell_type": "code",
   "execution_count": 144,
   "metadata": {},
   "outputs": [
    {
     "data": {
      "text/plain": [
       "210922"
      ]
     },
     "execution_count": 144,
     "metadata": {},
     "output_type": "execute_result"
    }
   ],
   "source": [
    "# Пользователей Landing Viewed из датасета AB Test Hit\n",
    "landing_viewed[landing_viewed['anonymous_id'].isin(ab_test_hit['anonymous_id'])]['anonymous_id'].nunique()"
   ]
  },
  {
   "cell_type": "markdown",
   "metadata": {},
   "source": [
    "### Описаны не все модалки из эксперимента"
   ]
  },
  {
   "cell_type": "code",
   "execution_count": 146,
   "metadata": {},
   "outputs": [
    {
     "data": {
      "text/plain": [
       "add_product             57265\n",
       "address                 31360\n",
       "landing                 13083\n",
       "not_in_delivery_zone     1443\n",
       "add_alcohol               283\n",
       "Name: source, dtype: int64"
      ]
     },
     "execution_count": 146,
     "metadata": {},
     "output_type": "execute_result"
    }
   ],
   "source": [
    "address_change_initiated['source'].value_counts()"
   ]
  },
  {
   "cell_type": "code",
   "execution_count": 147,
   "metadata": {},
   "outputs": [
    {
     "data": {
      "text/plain": [
       "header           36553\n",
       "address_modal    14290\n",
       "landing           6564\n",
       "Name: source, dtype: int64"
      ]
     },
     "execution_count": 147,
     "metadata": {},
     "output_type": "execute_result"
    }
   ],
   "source": [
    "shop_celection_started['source'].value_counts()"
   ]
  },
  {
   "cell_type": "code",
   "execution_count": 148,
   "metadata": {},
   "outputs": [
    {
     "data": {
      "text/plain": [
       "header           190608\n",
       "address_modal     13596\n",
       "landing            7524\n",
       "Name: source, dtype: int64"
      ]
     },
     "execution_count": 148,
     "metadata": {},
     "output_type": "execute_result"
    }
   ],
   "source": [
    "shop_selected['source'].value_counts()"
   ]
  },
  {
   "cell_type": "markdown",
   "metadata": {},
   "source": [
    "### События, не предусмотренные дизайном для Default "
   ]
  },
  {
   "cell_type": "code",
   "execution_count": 175,
   "metadata": {},
   "outputs": [
    {
     "name": "stdout",
     "output_type": "stream",
     "text": [
      "shop_selection_started: 23055\n",
      "shop selected: 43418\n"
     ]
    }
   ],
   "source": [
    "# этот шаг отсутствует в дизайне полностью. также значение значительно меньше, чем shop_selected\n",
    "print('shop_selection_started:', shop_celection_started[shop_celection_started['anonymous_id'].\\\n",
    "                             isin(ab_test_hit[ab_test_hit['group'] == 'default']['anonymous_id'])].\\\n",
    "      groupby('anonymous_id').nunique().shape[0])\n",
    "\n",
    "\n",
    "print('shop selected:', shop_selected[shop_selected['anonymous_id'].\\\n",
    "                             isin(ab_test_hit[ab_test_hit['group'] == 'default']['anonymous_id'])].\\\n",
    "      groupby('anonymous_id').nunique().shape[0])"
   ]
  },
  {
   "cell_type": "markdown",
   "metadata": {},
   "source": [
    "Прочие аномалии здесь или дальше по ходу решения"
   ]
  },
  {
   "cell_type": "code",
   "execution_count": 166,
   "metadata": {},
   "outputs": [
    {
     "data": {
      "text/plain": [
       "9"
      ]
     },
     "execution_count": 166,
     "metadata": {},
     "output_type": "execute_result"
    }
   ],
   "source": [
    "# Должно быть 0\n",
    "shop_selected[(shop_selected['anonymous_id'].isin(default))\n",
    "             &(shop_selected['source'] == 'landing')].groupby('anonymous_id').nunique().shape[0]"
   ]
  },
  {
   "cell_type": "code",
   "execution_count": 167,
   "metadata": {},
   "outputs": [
    {
     "data": {
      "text/plain": [
       "9"
      ]
     },
     "execution_count": 167,
     "metadata": {},
     "output_type": "execute_result"
    }
   ],
   "source": [
    "# Должно быть 0\n",
    "shop_celection_started[(shop_celection_started['anonymous_id'].isin(default))\n",
    "                       &(shop_celection_started['source'] == 'landing')].groupby('anonymous_id').nunique().shape[0]"
   ]
  },
  {
   "cell_type": "markdown",
   "metadata": {},
   "source": [
    "## Предобработка данных\n",
    "1. Уберем аномалии.\n",
    "2. Почистим дубликаты исходя из предположения, что повторные посещения имеют перекос в сторону повышения конверсии и уменьшения отскока."
   ]
  },
  {
   "cell_type": "code",
   "execution_count": 3,
   "metadata": {},
   "outputs": [],
   "source": [
    "# Удалим дубликаты\n",
    "ab_test_hit = ab_test_hit.drop_duplicates()"
   ]
  },
  {
   "cell_type": "code",
   "execution_count": 4,
   "metadata": {},
   "outputs": [
    {
     "data": {
      "text/html": [
       "<div>\n",
       "<style scoped>\n",
       "    .dataframe tbody tr th:only-of-type {\n",
       "        vertical-align: middle;\n",
       "    }\n",
       "\n",
       "    .dataframe tbody tr th {\n",
       "        vertical-align: top;\n",
       "    }\n",
       "\n",
       "    .dataframe thead th {\n",
       "        text-align: right;\n",
       "    }\n",
       "</style>\n",
       "<table border=\"1\" class=\"dataframe\">\n",
       "  <thead>\n",
       "    <tr style=\"text-align: right;\">\n",
       "      <th></th>\n",
       "      <th>hit_at</th>\n",
       "      <th>anonymous_id</th>\n",
       "      <th>group</th>\n",
       "      <th>device_type</th>\n",
       "      <th>browser</th>\n",
       "      <th>os</th>\n",
       "    </tr>\n",
       "  </thead>\n",
       "  <tbody>\n",
       "    <tr>\n",
       "      <th>count</th>\n",
       "      <td>502784</td>\n",
       "      <td>502784</td>\n",
       "      <td>502784</td>\n",
       "      <td>502784</td>\n",
       "      <td>502784</td>\n",
       "      <td>502783</td>\n",
       "    </tr>\n",
       "    <tr>\n",
       "      <th>unique</th>\n",
       "      <td>502470</td>\n",
       "      <td>489019</td>\n",
       "      <td>2</td>\n",
       "      <td>5</td>\n",
       "      <td>37</td>\n",
       "      <td>15</td>\n",
       "    </tr>\n",
       "    <tr>\n",
       "      <th>top</th>\n",
       "      <td>2020-12-03 05:33:34.021 UTC</td>\n",
       "      <td>5bb785fd-e0e7-447a-b0e1-a06328b31cbe</td>\n",
       "      <td>default</td>\n",
       "      <td>mobile</td>\n",
       "      <td>Chrome</td>\n",
       "      <td>Android</td>\n",
       "    </tr>\n",
       "    <tr>\n",
       "      <th>freq</th>\n",
       "      <td>3</td>\n",
       "      <td>18</td>\n",
       "      <td>446474</td>\n",
       "      <td>305530</td>\n",
       "      <td>250245</td>\n",
       "      <td>195489</td>\n",
       "    </tr>\n",
       "  </tbody>\n",
       "</table>\n",
       "</div>"
      ],
      "text/plain": [
       "                             hit_at                          anonymous_id  \\\n",
       "count                        502784                                502784   \n",
       "unique                       502470                                489019   \n",
       "top     2020-12-03 05:33:34.021 UTC  5bb785fd-e0e7-447a-b0e1-a06328b31cbe   \n",
       "freq                              3                                    18   \n",
       "\n",
       "          group device_type browser       os  \n",
       "count    502784      502784  502784   502783  \n",
       "unique        2           5      37       15  \n",
       "top     default      mobile  Chrome  Android  \n",
       "freq     446474      305530  250245   195489  "
      ]
     },
     "execution_count": 4,
     "metadata": {},
     "output_type": "execute_result"
    }
   ],
   "source": [
    "ab_test_hit.describe()"
   ]
  },
  {
   "cell_type": "code",
   "execution_count": 5,
   "metadata": {},
   "outputs": [
    {
     "data": {
      "text/plain": [
       "528"
      ]
     },
     "execution_count": 5,
     "metadata": {},
     "output_type": "execute_result"
    }
   ],
   "source": [
    "# Количество человек, включенных в обе группы\n",
    "both_groups = ab_test_hit[['group','anonymous_id']].groupby('anonymous_id').nunique().reset_index()\n",
    "both_groups = both_groups[both_groups['group'] > 1]\n",
    "both_groups.shape[0]"
   ]
  },
  {
   "cell_type": "code",
   "execution_count": 6,
   "metadata": {},
   "outputs": [
    {
     "data": {
      "text/html": [
       "<div>\n",
       "<style scoped>\n",
       "    .dataframe tbody tr th:only-of-type {\n",
       "        vertical-align: middle;\n",
       "    }\n",
       "\n",
       "    .dataframe tbody tr th {\n",
       "        vertical-align: top;\n",
       "    }\n",
       "\n",
       "    .dataframe thead th {\n",
       "        text-align: right;\n",
       "    }\n",
       "</style>\n",
       "<table border=\"1\" class=\"dataframe\">\n",
       "  <thead>\n",
       "    <tr style=\"text-align: right;\">\n",
       "      <th></th>\n",
       "      <th>hit_at</th>\n",
       "      <th>anonymous_id</th>\n",
       "      <th>group</th>\n",
       "      <th>device_type</th>\n",
       "      <th>browser</th>\n",
       "      <th>os</th>\n",
       "    </tr>\n",
       "  </thead>\n",
       "  <tbody>\n",
       "    <tr>\n",
       "      <th>96121</th>\n",
       "      <td>2020-12-05 09:55:34.775 UTC</td>\n",
       "      <td>0045db67-ef5c-4a6b-81b4-3e079d79b073</td>\n",
       "      <td>default</td>\n",
       "      <td>mobile</td>\n",
       "      <td>Chrome</td>\n",
       "      <td>Android</td>\n",
       "    </tr>\n",
       "    <tr>\n",
       "      <th>126053</th>\n",
       "      <td>2020-12-05 09:55:35.36 UTC</td>\n",
       "      <td>0045db67-ef5c-4a6b-81b4-3e079d79b073</td>\n",
       "      <td>address_first</td>\n",
       "      <td>mobile</td>\n",
       "      <td>Chrome</td>\n",
       "      <td>Android</td>\n",
       "    </tr>\n",
       "  </tbody>\n",
       "</table>\n",
       "</div>"
      ],
      "text/plain": [
       "                             hit_at                          anonymous_id  \\\n",
       "96121   2020-12-05 09:55:34.775 UTC  0045db67-ef5c-4a6b-81b4-3e079d79b073   \n",
       "126053   2020-12-05 09:55:35.36 UTC  0045db67-ef5c-4a6b-81b4-3e079d79b073   \n",
       "\n",
       "                group device_type browser       os  \n",
       "96121         default      mobile  Chrome  Android  \n",
       "126053  address_first      mobile  Chrome  Android  "
      ]
     },
     "execution_count": 6,
     "metadata": {},
     "output_type": "execute_result"
    }
   ],
   "source": [
    "# Example\n",
    "ab_test_hit[ab_test_hit['anonymous_id'] == '0045db67-ef5c-4a6b-81b4-3e079d79b073']"
   ]
  },
  {
   "cell_type": "markdown",
   "metadata": {},
   "source": [
    "Начинаем формировать датасет с очищенными данными, на основе которого потом будем строить воронку движения пользователя"
   ]
  },
  {
   "cell_type": "code",
   "execution_count": 7,
   "metadata": {},
   "outputs": [],
   "source": [
    "ab_test_cleared = ab_test_hit[~ab_test_hit['anonymous_id'].isin(both_groups['anonymous_id'])]"
   ]
  },
  {
   "cell_type": "code",
   "execution_count": 8,
   "metadata": {},
   "outputs": [
    {
     "data": {
      "text/plain": [
       "528"
      ]
     },
     "execution_count": 8,
     "metadata": {},
     "output_type": "execute_result"
    }
   ],
   "source": [
    "# Check\n",
    "ab_test_hit['anonymous_id'].nunique() - ab_test_cleared['anonymous_id'].nunique()"
   ]
  },
  {
   "cell_type": "code",
   "execution_count": 9,
   "metadata": {},
   "outputs": [
    {
     "data": {
      "text/plain": [
       "10592"
      ]
     },
     "execution_count": 9,
     "metadata": {},
     "output_type": "execute_result"
    }
   ],
   "source": [
    "# Количество дубликатов (более 1 записи для пользователя)\n",
    "duplicates = ab_test_cleared[['group','anonymous_id']].groupby('anonymous_id').count().reset_index()\n",
    "duplicates = duplicates[duplicates['group'] > 1]\n",
    "duplicates.shape[0]"
   ]
  },
  {
   "cell_type": "code",
   "execution_count": null,
   "metadata": {},
   "outputs": [],
   "source": []
  },
  {
   "cell_type": "markdown",
   "metadata": {},
   "source": [
    "Оставим только наиболее ранние контакты с сервисом."
   ]
  },
  {
   "cell_type": "code",
   "execution_count": 10,
   "metadata": {},
   "outputs": [],
   "source": [
    "min_hit = ab_test_cleared[ab_test_cleared['anonymous_id'].\\\n",
    "                          isin(duplicates['anonymous_id'])][['anonymous_id', 'hit_at']].\\\n",
    "                          groupby('anonymous_id', as_index=False).\\\n",
    "                          min()\n",
    "\n",
    "ab_test_cleared = ab_test_cleared[~((ab_test_cleared['anonymous_id'].\\\n",
    "                                     isin(min_hit['anonymous_id'])) \n",
    "                                    & (~ab_test_cleared['hit_at'].isin(min_hit['hit_at'])))]"
   ]
  },
  {
   "cell_type": "code",
   "execution_count": 14,
   "metadata": {},
   "outputs": [
    {
     "data": {
      "text/plain": [
       "0"
      ]
     },
     "execution_count": 14,
     "metadata": {},
     "output_type": "execute_result"
    }
   ],
   "source": [
    "#check: 1 user = 1 row\n",
    "ab_test_cleared[['anonymous_id', 'hit_at']].groupby('anonymous_id').count().shape[0] - ab_test_cleared.shape[0]"
   ]
  },
  {
   "cell_type": "markdown",
   "metadata": {},
   "source": [
    "## Проверим выборки\n",
    "Посмотрим, насколько сбалансированы пользователи, попавшие в обе выборки по своим свойствам"
   ]
  },
  {
   "cell_type": "code",
   "execution_count": 24,
   "metadata": {},
   "outputs": [
    {
     "data": {
      "text/html": [
       "<div>\n",
       "<style scoped>\n",
       "    .dataframe tbody tr th:only-of-type {\n",
       "        vertical-align: middle;\n",
       "    }\n",
       "\n",
       "    .dataframe tbody tr th {\n",
       "        vertical-align: top;\n",
       "    }\n",
       "\n",
       "    .dataframe thead th {\n",
       "        text-align: right;\n",
       "    }\n",
       "</style>\n",
       "<table border=\"1\" class=\"dataframe\">\n",
       "  <thead>\n",
       "    <tr style=\"text-align: right;\">\n",
       "      <th></th>\n",
       "      <th>anonymous_id</th>\n",
       "    </tr>\n",
       "    <tr>\n",
       "      <th>group</th>\n",
       "      <th></th>\n",
       "    </tr>\n",
       "  </thead>\n",
       "  <tbody>\n",
       "    <tr>\n",
       "      <th>address_first</th>\n",
       "      <td>54292</td>\n",
       "    </tr>\n",
       "    <tr>\n",
       "      <th>default</th>\n",
       "      <td>434199</td>\n",
       "    </tr>\n",
       "  </tbody>\n",
       "</table>\n",
       "</div>"
      ],
      "text/plain": [
       "               anonymous_id\n",
       "group                      \n",
       "address_first         54292\n",
       "default              434199"
      ]
     },
     "execution_count": 24,
     "metadata": {},
     "output_type": "execute_result"
    }
   ],
   "source": [
    "ab_test_cleared.groupby(['group']).agg({'anonymous_id':'count'})"
   ]
  },
  {
   "cell_type": "markdown",
   "metadata": {},
   "source": [
    "Имеем несбалансированные группы, благодаря этому можем отбалансировать такие параметры выборки как сегментация по типам устройств, платформам, среднему чеку (не входит в метрики эксперимента) при необходимости."
   ]
  },
  {
   "cell_type": "code",
   "execution_count": 171,
   "metadata": {},
   "outputs": [
    {
     "name": "stdout",
     "output_type": "stream",
     "text": [
      "Средний чек по всем пользователям: 11921.623860144948\n"
     ]
    },
    {
     "data": {
      "text/plain": [
       "group\n",
       "address_first    11870.082072\n",
       "default          11930.529202\n",
       "dtype: float64"
      ]
     },
     "execution_count": 171,
     "metadata": {},
     "output_type": "execute_result"
    }
   ],
   "source": [
    "# Посчитаем средний чек в каждой группе\n",
    "person_order = order_completed[['anonymous_id', 'order_sum']].groupby('anonymous_id').sum()\n",
    "print('Средний чек по всем пользователям:', person_order.mean()[0])\n",
    "df_merged = ab_test_cleared.merge(person_order, on='anonymous_id', how='left')\n",
    "df = df_merged[df_merged['order_sum'].notna()].groupby(['group']).agg({'anonymous_id':'count', 'order_sum':'sum'})\n",
    "df[df['order_sum'].notna()]['order_sum'] / df[df['order_sum'].notna()]['anonymous_id']"
   ]
  },
  {
   "cell_type": "markdown",
   "metadata": {},
   "source": [
    "Проверим также насколько сбалансированы группы по типам устройств."
   ]
  },
  {
   "cell_type": "code",
   "execution_count": 30,
   "metadata": {},
   "outputs": [
    {
     "data": {
      "text/html": [
       "<div>\n",
       "<style scoped>\n",
       "    .dataframe tbody tr th:only-of-type {\n",
       "        vertical-align: middle;\n",
       "    }\n",
       "\n",
       "    .dataframe tbody tr th {\n",
       "        vertical-align: top;\n",
       "    }\n",
       "\n",
       "    .dataframe thead th {\n",
       "        text-align: right;\n",
       "    }\n",
       "</style>\n",
       "<table border=\"1\" class=\"dataframe\">\n",
       "  <thead>\n",
       "    <tr style=\"text-align: right;\">\n",
       "      <th></th>\n",
       "      <th></th>\n",
       "      <th>anonymous_id</th>\n",
       "    </tr>\n",
       "    <tr>\n",
       "      <th>group</th>\n",
       "      <th>device_type</th>\n",
       "      <th></th>\n",
       "    </tr>\n",
       "  </thead>\n",
       "  <tbody>\n",
       "    <tr>\n",
       "      <th rowspan=\"5\" valign=\"top\">address_first</th>\n",
       "      <th>console</th>\n",
       "      <td>0.001842</td>\n",
       "    </tr>\n",
       "    <tr>\n",
       "      <th>desktop</th>\n",
       "      <td>37.307522</td>\n",
       "    </tr>\n",
       "    <tr>\n",
       "      <th>mobile</th>\n",
       "      <td>61.311059</td>\n",
       "    </tr>\n",
       "    <tr>\n",
       "      <th>smarttv</th>\n",
       "      <td>0.001842</td>\n",
       "    </tr>\n",
       "    <tr>\n",
       "      <th>tablet</th>\n",
       "      <td>1.377735</td>\n",
       "    </tr>\n",
       "    <tr>\n",
       "      <th rowspan=\"5\" valign=\"top\">default</th>\n",
       "      <th>console</th>\n",
       "      <td>0.003915</td>\n",
       "    </tr>\n",
       "    <tr>\n",
       "      <th>desktop</th>\n",
       "      <td>37.709437</td>\n",
       "    </tr>\n",
       "    <tr>\n",
       "      <th>mobile</th>\n",
       "      <td>60.950624</td>\n",
       "    </tr>\n",
       "    <tr>\n",
       "      <th>smarttv</th>\n",
       "      <td>0.003455</td>\n",
       "    </tr>\n",
       "    <tr>\n",
       "      <th>tablet</th>\n",
       "      <td>1.332569</td>\n",
       "    </tr>\n",
       "  </tbody>\n",
       "</table>\n",
       "</div>"
      ],
      "text/plain": [
       "                           anonymous_id\n",
       "group         device_type              \n",
       "address_first console          0.001842\n",
       "              desktop         37.307522\n",
       "              mobile          61.311059\n",
       "              smarttv          0.001842\n",
       "              tablet           1.377735\n",
       "default       console          0.003915\n",
       "              desktop         37.709437\n",
       "              mobile          60.950624\n",
       "              smarttv          0.003455\n",
       "              tablet           1.332569"
      ]
     },
     "execution_count": 30,
     "metadata": {},
     "output_type": "execute_result"
    }
   ],
   "source": [
    "# Для всей выборки\n",
    "device_type = ab_test_cleared.groupby(['group', 'device_type']).agg({'anonymous_id':'count'})\n",
    "device_type.groupby(level=0).apply(lambda x: 100 * x / float(x.sum()))"
   ]
  },
  {
   "cell_type": "code",
   "execution_count": 31,
   "metadata": {},
   "outputs": [
    {
     "data": {
      "text/html": [
       "<div>\n",
       "<style scoped>\n",
       "    .dataframe tbody tr th:only-of-type {\n",
       "        vertical-align: middle;\n",
       "    }\n",
       "\n",
       "    .dataframe tbody tr th {\n",
       "        vertical-align: top;\n",
       "    }\n",
       "\n",
       "    .dataframe thead th {\n",
       "        text-align: right;\n",
       "    }\n",
       "</style>\n",
       "<table border=\"1\" class=\"dataframe\">\n",
       "  <thead>\n",
       "    <tr style=\"text-align: right;\">\n",
       "      <th></th>\n",
       "      <th></th>\n",
       "      <th>anonymous_id</th>\n",
       "    </tr>\n",
       "    <tr>\n",
       "      <th>group</th>\n",
       "      <th>device_type</th>\n",
       "      <th></th>\n",
       "    </tr>\n",
       "  </thead>\n",
       "  <tbody>\n",
       "    <tr>\n",
       "      <th rowspan=\"5\" valign=\"top\">address_first</th>\n",
       "      <th>console</th>\n",
       "      <td>0.004246</td>\n",
       "    </tr>\n",
       "    <tr>\n",
       "      <th>desktop</th>\n",
       "      <td>47.690021</td>\n",
       "    </tr>\n",
       "    <tr>\n",
       "      <th>mobile</th>\n",
       "      <td>50.785563</td>\n",
       "    </tr>\n",
       "    <tr>\n",
       "      <th>smarttv</th>\n",
       "      <td>0.004246</td>\n",
       "    </tr>\n",
       "    <tr>\n",
       "      <th>tablet</th>\n",
       "      <td>1.515924</td>\n",
       "    </tr>\n",
       "    <tr>\n",
       "      <th rowspan=\"5\" valign=\"top\">default</th>\n",
       "      <th>console</th>\n",
       "      <td>0.004274</td>\n",
       "    </tr>\n",
       "    <tr>\n",
       "      <th>desktop</th>\n",
       "      <td>48.298742</td>\n",
       "    </tr>\n",
       "    <tr>\n",
       "      <th>mobile</th>\n",
       "      <td>50.249219</td>\n",
       "    </tr>\n",
       "    <tr>\n",
       "      <th>smarttv</th>\n",
       "      <td>0.003740</td>\n",
       "    </tr>\n",
       "    <tr>\n",
       "      <th>tablet</th>\n",
       "      <td>1.444026</td>\n",
       "    </tr>\n",
       "  </tbody>\n",
       "</table>\n",
       "</div>"
      ],
      "text/plain": [
       "                           anonymous_id\n",
       "group         device_type              \n",
       "address_first console          0.004246\n",
       "              desktop         47.690021\n",
       "              mobile          50.785563\n",
       "              smarttv          0.004246\n",
       "              tablet           1.515924\n",
       "default       console          0.004274\n",
       "              desktop         48.298742\n",
       "              mobile          50.249219\n",
       "              smarttv          0.003740\n",
       "              tablet           1.444026"
      ]
     },
     "execution_count": 31,
     "metadata": {},
     "output_type": "execute_result"
    }
   ],
   "source": [
    "# Для пользователей, вошедших в Landing Viewed\n",
    "device_type = ab_test_cleared[ab_test_cleared['anonymous_id'].isin(landing_viewed['anonymous_id'])].groupby(['group', 'device_type']).agg({'anonymous_id':'count'})\n",
    "device_type.groupby(level=0).apply(lambda x: 100 * x / float(x.sum()))"
   ]
  },
  {
   "cell_type": "markdown",
   "metadata": {},
   "source": [
    "Датасеты выглядят сбалансированными.\n",
    "\n",
    "Далее в связи с тем, что данные сильно перемешаны, я построю полностью воронку движения пользователей в каждой группе и по ним посчитаю метрики эксперимента.\n",
    "* В качестве допущения я брал наиболее раннюю сессию для каждого пользователя. Так как не все пользователи двигались по интересющей нас траектории (и, видимо, не все начинали путь с ленгдинга), в расчет будут приниматься только пользователи, прошедшие предыдущий этап пути."
   ]
  },
  {
   "cell_type": "markdown",
   "metadata": {},
   "source": [
    "## Результаты эксперимента"
   ]
  },
  {
   "cell_type": "code",
   "execution_count": 172,
   "metadata": {},
   "outputs": [],
   "source": [
    "# Группы пользователей из очищенного датасета\n",
    "default = ab_test_cleared[ab_test_cleared['group'] == 'default']['anonymous_id']\n",
    "address = ab_test_cleared[ab_test_cleared['group'] == 'address_first']['anonymous_id']"
   ]
  },
  {
   "cell_type": "markdown",
   "metadata": {},
   "source": [
    "### Default\n",
    "Путь пользователя в группе default: \n",
    "1. Landing viewed\n",
    "2. Main Page Viewed\n",
    "3. Add to Cart clicked\n",
    "4. Address Change Initiated\n",
    "5. Product Added\n",
    "6. Order Completed"
   ]
  },
  {
   "cell_type": "code",
   "execution_count": 117,
   "metadata": {},
   "outputs": [
    {
     "data": {
      "text/plain": [
       "434199"
      ]
     },
     "execution_count": 117,
     "metadata": {},
     "output_type": "execute_result"
    }
   ],
   "source": [
    "# Всего пользователей в группе\n",
    "ab_test_hit[ab_test_hit['anonymous_id'].isin(default)].groupby('anonymous_id').nunique().shape[0]"
   ]
  },
  {
   "cell_type": "code",
   "execution_count": 119,
   "metadata": {},
   "outputs": [
    {
     "data": {
      "text/plain": [
       "187185"
      ]
     },
     "execution_count": 119,
     "metadata": {},
     "output_type": "execute_result"
    }
   ],
   "source": [
    "# Увидели лэндинг \n",
    "landing_users = landing_viewed[landing_viewed['anonymous_id'].isin(default)]['anonymous_id']\n",
    "landing_viewed[landing_viewed['anonymous_id'].isin(default)].groupby('anonymous_id').nunique().shape[0]"
   ]
  },
  {
   "cell_type": "code",
   "execution_count": 121,
   "metadata": {},
   "outputs": [
    {
     "data": {
      "text/plain": [
       "86807"
      ]
     },
     "execution_count": 121,
     "metadata": {},
     "output_type": "execute_result"
    }
   ],
   "source": [
    "# Увидели главную страницу магазина\n",
    "main_users = main_viewed[main_viewed['anonymous_id'].isin(landing_users)]['anonymous_id']\n",
    "main_viewed[main_viewed['anonymous_id'].isin(landing_users)].groupby('anonymous_id').nunique().shape[0]"
   ]
  },
  {
   "cell_type": "code",
   "execution_count": 87,
   "metadata": {},
   "outputs": [],
   "source": [
    "# address_not_in_deli[address_not_in_deli['anonymous_id'].isin(default)].groupby('anonymous_id').nunique().shape[0]"
   ]
  },
  {
   "cell_type": "code",
   "execution_count": 123,
   "metadata": {},
   "outputs": [
    {
     "data": {
      "text/plain": [
       "33177"
      ]
     },
     "execution_count": 123,
     "metadata": {},
     "output_type": "execute_result"
    }
   ],
   "source": [
    "# Из них нажали на добавление продукта в корзину\n",
    "cart_users = add_to_cart_clicked[add_to_cart_clicked['anonymous_id'].isin(main_users)]['anonymous_id']\n",
    "add_to_cart_clicked[add_to_cart_clicked['anonymous_id'].isin(main_users)].groupby('anonymous_id').nunique().shape[0]"
   ]
  },
  {
   "cell_type": "code",
   "execution_count": 126,
   "metadata": {},
   "outputs": [
    {
     "data": {
      "text/plain": [
       "16365"
      ]
     },
     "execution_count": 126,
     "metadata": {},
     "output_type": "execute_result"
    }
   ],
   "source": [
    "# Перешли на страницу ввода адреса\n",
    "addr_change_users = address_change_initiated[(address_change_initiated['anonymous_id'].isin(cart_users))&(address_change_initiated['source'].isin(['add_product']))]['anonymous_id']\n",
    "address_change_initiated[(address_change_initiated['anonymous_id'].isin(cart_users))&(address_change_initiated['source'].isin(['add_product']))].groupby('anonymous_id').nunique().shape[0]"
   ]
  },
  {
   "cell_type": "code",
   "execution_count": 127,
   "metadata": {},
   "outputs": [
    {
     "data": {
      "text/plain": [
       "9652"
      ]
     },
     "execution_count": 127,
     "metadata": {},
     "output_type": "execute_result"
    }
   ],
   "source": [
    "# Успешно добавили продукт в корзину\n",
    "product_add_users = product_added[product_added['anonymous_id'].isin(addr_change_users)]['anonymous_id']\n",
    "product_added[product_added['anonymous_id'].isin(addr_change_users)].groupby('anonymous_id').nunique().shape[0]"
   ]
  },
  {
   "cell_type": "code",
   "execution_count": 128,
   "metadata": {},
   "outputs": [
    {
     "data": {
      "text/plain": [
       "1593"
      ]
     },
     "execution_count": 128,
     "metadata": {},
     "output_type": "execute_result"
    }
   ],
   "source": [
    "# Завершили заказ\n",
    "order_completed[order_completed['anonymous_id'].isin(product_add_users)].groupby('anonymous_id').nunique().shape[0]"
   ]
  },
  {
   "cell_type": "markdown",
   "metadata": {},
   "source": [
    "### Address First\n",
    "Путь пользователя в сценарии Address First:\n",
    "1. Landing Viewed\n",
    "2. Address Change Initiated (landing)\n",
    "3. Shop Selection Started (landing)\n",
    "4. Shop Selected (landing)\n",
    "5. Product Added (landing)\n",
    "6. Order Completed"
   ]
  },
  {
   "cell_type": "code",
   "execution_count": 173,
   "metadata": {},
   "outputs": [
    {
     "data": {
      "text/plain": [
       "54292"
      ]
     },
     "execution_count": 173,
     "metadata": {},
     "output_type": "execute_result"
    }
   ],
   "source": [
    "# Всего пользователей включено в группу Address First\n",
    "ab_test_hit[ab_test_hit['anonymous_id'].isin(address)].groupby('anonymous_id').nunique().shape[0]"
   ]
  },
  {
   "cell_type": "code",
   "execution_count": 131,
   "metadata": {},
   "outputs": [
    {
     "data": {
      "text/plain": [
       "23550"
      ]
     },
     "execution_count": 131,
     "metadata": {},
     "output_type": "execute_result"
    }
   ],
   "source": [
    "# Из них увидели лэндинг\n",
    "landing_users = landing_viewed[landing_viewed['anonymous_id'].isin(address)]['anonymous_id']\n",
    "landing_viewed[landing_viewed['anonymous_id'].isin(address)].groupby('anonymous_id').nunique().shape[0]"
   ]
  },
  {
   "cell_type": "code",
   "execution_count": 132,
   "metadata": {},
   "outputs": [
    {
     "data": {
      "text/plain": [
       "8716"
      ]
     },
     "execution_count": 132,
     "metadata": {},
     "output_type": "execute_result"
    }
   ],
   "source": [
    "# Из них перешли к выбору адреса\n",
    "addr_change_users = address_change_initiated[(address_change_initiated['anonymous_id'].isin(landing_users))&(address_change_initiated['source'].isin(['landing']))]['anonymous_id']\n",
    "address_change_initiated[(address_change_initiated['anonymous_id'].isin(landing_users))&(address_change_initiated['source'] == 'landing')].groupby('anonymous_id').nunique().shape[0]"
   ]
  },
  {
   "cell_type": "code",
   "execution_count": 96,
   "metadata": {},
   "outputs": [],
   "source": [
    "# address_not_in_deli[address_not_in_deli['anonymous_id'].isin(address)].groupby('anonymous_id').nunique().shape[0]"
   ]
  },
  {
   "cell_type": "code",
   "execution_count": 133,
   "metadata": {},
   "outputs": [
    {
     "data": {
      "text/plain": [
       "5081"
      ]
     },
     "execution_count": 133,
     "metadata": {},
     "output_type": "execute_result"
    }
   ],
   "source": [
    "# ... К выбору магазина\n",
    "selection_users = shop_celection_started[(shop_celection_started['anonymous_id'].isin(addr_change_users)) & (shop_celection_started['source'] == 'landing')]['anonymous_id']\n",
    "shop_celection_started[(shop_celection_started['anonymous_id'].isin(addr_change_users)) & (shop_celection_started['source'] == 'landing')].groupby('anonymous_id').nunique().shape[0]"
   ]
  },
  {
   "cell_type": "code",
   "execution_count": 134,
   "metadata": {},
   "outputs": [
    {
     "data": {
      "text/plain": [
       "4474"
      ]
     },
     "execution_count": 134,
     "metadata": {},
     "output_type": "execute_result"
    }
   ],
   "source": [
    "# Выбрали магазин\n",
    "selected_users = shop_selected[(shop_selected['anonymous_id'].isin(selection_users)) & (shop_selected['source'] == 'landing')]['anonymous_id']\n",
    "shop_selected[(shop_selected['anonymous_id'].isin(selection_users)) & (shop_selected['source'] == 'landing')].groupby('anonymous_id').nunique().shape[0]"
   ]
  },
  {
   "cell_type": "code",
   "execution_count": 135,
   "metadata": {},
   "outputs": [
    {
     "data": {
      "text/plain": [
       "1759"
      ]
     },
     "execution_count": 135,
     "metadata": {},
     "output_type": "execute_result"
    }
   ],
   "source": [
    "# Успешно добавили в корзину\n",
    "product_add_users = product_added[product_added['anonymous_id'].isin(selected_users)]['anonymous_id']\n",
    "product_added[product_added['anonymous_id'].isin(selected_users)].groupby('anonymous_id').nunique().shape[0]"
   ]
  },
  {
   "cell_type": "code",
   "execution_count": 136,
   "metadata": {},
   "outputs": [
    {
     "data": {
      "text/plain": [
       "234"
      ]
     },
     "execution_count": 136,
     "metadata": {},
     "output_type": "execute_result"
    }
   ],
   "source": [
    "# Завершили заказ\n",
    "order_completed[order_completed['anonymous_id'].isin(product_add_users)].groupby('anonymous_id').nunique().shape[0]"
   ]
  },
  {
   "cell_type": "markdown",
   "metadata": {},
   "source": [
    "### Bounce rate"
   ]
  },
  {
   "attachments": {
    "image.png": {
     "image/png": "[encoded data removed]"
    }
   },
   "cell_type": "markdown",
   "metadata": {},
   "source": [
    "![image.png](attachment:image.png)"
   ]
  },
  {
   "cell_type": "markdown",
   "metadata": {},
   "source": [
    "### Conversion Rate"
   ]
  },
  {
   "attachments": {
    "cr3.PNG": {
     "image/png": "[encoded data removed]"
    }
   },
   "cell_type": "markdown",
   "metadata": {},
   "source": [
    "![cr3.PNG](attachment:cr3.PNG)"
   ]
  },
  {
   "cell_type": "markdown",
   "metadata": {},
   "source": [
    "Ссылка на калькулятор: https://www.evanmiller.org/ab-testing/chi-squared.html"
   ]
  },
  {
   "cell_type": "code",
   "execution_count": null,
   "metadata": {},
   "outputs": [],
   "source": []
  }
 ],
 "metadata": {
  "kernelspec": {
   "display_name": "Python 3",
   "language": "python",
   "name": "python3"
  },
  "language_info": {
   "codemirror_mode": {
    "name": "ipython",
    "version": 3
   },
   "file_extension": ".py",
   "mimetype": "text/x-python",
   "name": "python",
   "nbconvert_exporter": "python",
   "pygments_lexer": "ipython3",
   "version": "3.9.0"
  }
 },
 "nbformat": 4,
 "nbformat_minor": 4
}
